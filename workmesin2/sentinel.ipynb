{
 "cells": [
  {
   "cell_type": "code",
   "execution_count": 1,
   "id": "27e7da3a-cb9a-4087-84ea-09b21a74276f",
   "metadata": {},
   "outputs": [
    {
     "name": "stdout",
     "output_type": "stream",
     "text": [
      "172.28.0.2\n",
      "6379\n"
     ]
    },
    {
     "data": {
      "text/plain": [
       "Redis<ConnectionPool<Connection<host=192.168.1.7,port=6381,db=0>>>"
      ]
     },
     "execution_count": 1,
     "metadata": {},
     "output_type": "execute_result"
    }
   ],
   "source": [
    "import redis \n",
    "\n",
    "sentinels = [('192.168.1.7', 26379), ('192.168.1.7', 26380), ('192.168.1.7', 26381)]\n",
    "\n",
    "sentinel_conns = []\n",
    "\n",
    "for sentinel in sentinels:\n",
    "    sentinel_conn = redis.Redis(host=sentinel[0], port=sentinel[1])\n",
    "    sentinel_conns.append(sentinel_conn)\n",
    "\n",
    "# Determine the current master\n",
    "master = None\n",
    "for sentinel_conn in sentinel_conns:\n",
    "    try:\n",
    "        master = sentinel_conn.execute_command('SENTINEL get-master-addr-by-name mymaster')\n",
    "        break\n",
    "    except redis.exceptions.ConnectionError:\n",
    "        continue\n",
    "\n",
    "if master is None:\n",
    "    raise Exception('Unable to determine current master')\n",
    "\n",
    "master_ip = master[0].decode()\n",
    "master_port = int(master[1])\n",
    "print(master_ip)\n",
    "print(master_port)\n",
    "\n",
    "ip_mapping = {\"172.28.0.2\" : \"6379\", \"172.28.0.2\": \"6380\", \"172.28.0.2\": \"6381\"}\n",
    "\n",
    "master_port = ip_mapping[master_ip]\n",
    "master_ip = \"192.168.1.7\"\n",
    "\n",
    "# connect to master\n",
    "master_conn = redis.Redis(host=master_ip, port=master_port)\n",
    "master_conn"
   ]
  },
  {
   "cell_type": "code",
   "execution_count": 2,
   "id": "933e6afb-de45-4018-8672-04fcadead1d6",
   "metadata": {},
   "outputs": [
    {
     "data": {
      "text/plain": [
       "True"
      ]
     },
     "execution_count": 2,
     "metadata": {},
     "output_type": "execute_result"
    }
   ],
   "source": [
    "master_conn.ping()"
   ]
  },
  {
   "cell_type": "code",
   "execution_count": 6,
   "id": "aa2e173f-767b-429c-aa50-bf7f4210101e",
   "metadata": {},
   "outputs": [
    {
     "data": {
      "text/plain": [
       "True"
      ]
     },
     "execution_count": 6,
     "metadata": {},
     "output_type": "execute_result"
    }
   ],
   "source": [
    "master_conn.set(\"Favorite Movie\", \"Pk\")\n"
   ]
  },
  {
   "cell_type": "code",
   "execution_count": 7,
   "id": "3289fabd-8524-4e81-9885-e0fe5a705e50",
   "metadata": {},
   "outputs": [
    {
     "data": {
      "text/plain": [
       "b'Pk'"
      ]
     },
     "execution_count": 7,
     "metadata": {},
     "output_type": "execute_result"
    }
   ],
   "source": [
    "master_conn.get(\"Favorite Movie\")"
   ]
  },
  {
   "cell_type": "code",
   "execution_count": 9,
   "id": "b04c5199-786d-4c92-b68d-d838a5d37099",
   "metadata": {},
   "outputs": [
    {
     "data": {
      "text/plain": [
       "True"
      ]
     },
     "execution_count": 9,
     "metadata": {},
     "output_type": "execute_result"
    }
   ],
   "source": [
    "master_conn.set(\"favourite_club\", \"real madrid\")"
   ]
  },
  {
   "cell_type": "code",
   "execution_count": null,
   "id": "8359753a-876e-4a04-b54d-ab11c95f900e",
   "metadata": {},
   "outputs": [],
   "source": []
  }
 ],
 "metadata": {
  "kernelspec": {
   "display_name": "Python 3 (ipykernel)",
   "language": "python",
   "name": "python3"
  },
  "language_info": {
   "codemirror_mode": {
    "name": "ipython",
    "version": 3
   },
   "file_extension": ".py",
   "mimetype": "text/x-python",
   "name": "python",
   "nbconvert_exporter": "python",
   "pygments_lexer": "ipython3",
   "version": "3.9.18"
  }
 },
 "nbformat": 4,
 "nbformat_minor": 5
}
